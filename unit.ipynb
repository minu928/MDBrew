{
 "cells": [
  {
   "cell_type": "code",
   "execution_count": 1,
   "metadata": {},
   "outputs": [
    {
     "name": "stdout",
     "output_type": "stream",
     "text": [
      "mdbrew.__version__='0.0.1'\n"
     ]
    }
   ],
   "source": [
    "import mdbrew\n",
    "\n",
    "print(f\"{mdbrew.__version__=}\")"
   ]
  },
  {
   "cell_type": "code",
   "execution_count": 15,
   "metadata": {},
   "outputs": [
    {
     "name": "stdout",
     "output_type": "stream",
     "text": [
      "True: 'kg->g' 1000.0\n",
      "True: 'nm->angstrom' 0.1\n",
      "True: 'N->newton' 1.0\n",
      "True: 'J->eV' 6.2415090745e+18\n"
     ]
    }
   ],
   "source": [
    "from mdbrew.unit import convert\n",
    "\n",
    "\n",
    "QandA = {\n",
    "    \"kg->g\": 1000,\n",
    "    \"nm->angstrom\": 0.1,\n",
    "    \"N->newton\": 1.0,\n",
    "    \"J->eV\": 6.2415090745e18,\n",
    "}\n",
    "for Q, A in QandA.items():\n",
    "    val = convert(Q)\n",
    "    result = bool(A == val)\n",
    "    print(f\"{result}: '{Q}' {val}\")"
   ]
  },
  {
   "cell_type": "code",
   "execution_count": 17,
   "metadata": {},
   "outputs": [
    {
     "data": {
      "text/plain": [
       "<module 'mdbrew.unit._conversion' from '/Users/minu/Desktop/mdbrew/mdbrew/unit/_conversion.py'>"
      ]
     },
     "execution_count": 17,
     "metadata": {},
     "output_type": "execute_result"
    }
   ],
   "source": [
    "from mdbrew import unit\n",
    "\n",
    "unit._conversion"
   ]
  }
 ],
 "metadata": {
  "kernelspec": {
   "display_name": "mdbrew",
   "language": "python",
   "name": "python3"
  },
  "language_info": {
   "codemirror_mode": {
    "name": "ipython",
    "version": 3
   },
   "file_extension": ".py",
   "mimetype": "text/x-python",
   "name": "python",
   "nbconvert_exporter": "python",
   "pygments_lexer": "ipython3",
   "version": "3.10.16"
  }
 },
 "nbformat": 4,
 "nbformat_minor": 2
}
